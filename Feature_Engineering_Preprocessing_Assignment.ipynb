{
  "nbformat": 4,
  "nbformat_minor": 0,
  "metadata": {
    "colab": {
      "provenance": [],
      "authorship_tag": "ABX9TyPKXa6AcX7usnVRWLCX/jwd",
      "include_colab_link": true
    },
    "kernelspec": {
      "name": "python3",
      "display_name": "Python 3"
    },
    "language_info": {
      "name": "python"
    }
  },
  "cells": [
    {
      "cell_type": "markdown",
      "metadata": {
        "id": "view-in-github",
        "colab_type": "text"
      },
      "source": [
        "<a href=\"https://colab.research.google.com/github/rayasrujanareddy/ML-3/blob/main/Feature_Engineering_Preprocessing_Assignment.ipynb\" target=\"_parent\"><img src=\"https://colab.research.google.com/assets/colab-badge.svg\" alt=\"Open In Colab\"/></a>"
      ]
    },
    {
      "cell_type": "markdown",
      "source": [
        "## Feature Engineering/Preprocessing assignment\n",
        "\n"
      ],
      "metadata": {
        "id": "gmhfEN6B5GcZ"
      }
    },
    {
      "cell_type": "markdown",
      "source": [
        "## Question 1-\n",
        "## Finding mean and variance of the elements"
      ],
      "metadata": {
        "id": "ULvyQVdwryPi"
      }
    },
    {
      "cell_type": "code",
      "execution_count": null,
      "metadata": {
        "colab": {
          "base_uri": "https://localhost:8080/"
        },
        "id": "m59Qq491DSHU",
        "outputId": "90dc18ae-b2df-46b1-8b0c-819c41ad89f9"
      },
      "outputs": [
        {
          "output_type": "stream",
          "name": "stdout",
          "text": [
            "Feature Vector: [ 1  2  3  4  5  6  7  8  9 10]\n",
            "Mean: 5.5\n",
            "Variance: 9.166666666666666\n"
          ]
        }
      ],
      "source": [
        "import numpy as np\n",
        "\n",
        "# Create a 1xN dimensional array (N-dimensional feature vector)\n",
        "N = 10  # Example dimension size\n",
        "feature_vector = np.array([1, 2, 3, 4, 5, 6, 7, 8, 9, 10])\n",
        "\n",
        "# Compute the mean of the elements in the array\n",
        "mean = np.mean(feature_vector)\n",
        "\n",
        "# Compute the variance of the elements in the array\n",
        "variance = np.var(feature_vector, ddof=1)  # Sample variance (ddof=1)\n",
        "\n",
        "# Output the results\n",
        "print(f\"Feature Vector: {feature_vector}\")\n",
        "print(f\"Mean: {mean}\")\n",
        "print(f\"Variance: {variance}\")\n"
      ]
    },
    {
      "cell_type": "markdown",
      "source": [
        "## Question 2 -\n",
        "## Covariance between two vectors"
      ],
      "metadata": {
        "id": "Xc7CohSwrwL7"
      }
    },
    {
      "cell_type": "code",
      "source": [
        "# Define two 1xM dimensional arrays (N-dimensional feature vectors)\n",
        "vector_x = [1, 2, 3, 4, 5]\n",
        "vector_y = [5, 4, 3, 2, 1]\n",
        "\n",
        "# Calculate the mean of both vectors\n",
        "mean_x = sum(vector_x) / len(vector_x)\n",
        "mean_y = sum(vector_y) / len(vector_y)\n",
        "\n",
        "# Calculate the covariance\n",
        "covariance = sum((vector_x[i] - mean_x) * (vector_y[i] - mean_y) for i in range(len(vector_x))) / (len(vector_x) - 1)\n",
        "\n",
        "# Output the results\n",
        "print(f\"Vector X: {vector_x}\")\n",
        "print(f\"Vector Y: {vector_y}\")\n",
        "print(f\"Covariance: {covariance}\")\n"
      ],
      "metadata": {
        "colab": {
          "base_uri": "https://localhost:8080/"
        },
        "id": "ZVagJ-XUsCAR",
        "outputId": "23d3c42f-44e6-4c72-ddb2-78bbc11434ac"
      },
      "execution_count": null,
      "outputs": [
        {
          "output_type": "stream",
          "name": "stdout",
          "text": [
            "Vector X: [1, 2, 3, 4, 5]\n",
            "Vector Y: [5, 4, 3, 2, 1]\n",
            "Covariance: -2.5\n"
          ]
        }
      ]
    },
    {
      "cell_type": "markdown",
      "source": [
        "## Question 3 -\n",
        "## Correlation between them."
      ],
      "metadata": {
        "id": "_O3KZTLMAIcc"
      }
    },
    {
      "cell_type": "code",
      "source": [
        "import numpy as np\n",
        "\n",
        "# Define two 1xN dimensional arrays (N-dimensional feature vectors)\n",
        "vector_x = np.array([1, 2, 3, 4, 5])\n",
        "vector_y = np.array([10, 9, 2, 3, 1])\n",
        "\n",
        "# Compute the covariance between the two vectors\n",
        "covariance = np.cov(vector_x, vector_y)[0][1]\n",
        "\n",
        "# Compute the standard deviations of both vectors\n",
        "std_x = np.std(vector_x, ddof=1)\n",
        "std_y = np.std(vector_y, ddof=1)\n",
        "\n",
        "# Compute the correlation\n",
        "correlation = covariance / (std_x * std_y)\n",
        "\n",
        "# Output the results\n",
        "print(f\"Vector X: {vector_x}\")\n",
        "print(f\"Vector Y: {vector_y}\")\n",
        "print(f\"Correlation: {correlation}\")\n"
      ],
      "metadata": {
        "colab": {
          "base_uri": "https://localhost:8080/"
        },
        "id": "jdFXhgN8AQcE",
        "outputId": "d5367523-e48e-4ae7-d971-1487b5ea9bdb"
      },
      "execution_count": null,
      "outputs": [
        {
          "output_type": "stream",
          "name": "stdout",
          "text": [
            "Vector X: [1 2 3 4 5]\n",
            "Vector Y: [10  9  2  3  1]\n",
            "Correlation: -0.9071147352221453\n"
          ]
        }
      ]
    },
    {
      "cell_type": "markdown",
      "source": [
        "## Question 4 -\n",
        "## Covariance matrix and Correlation matrix.\n"
      ],
      "metadata": {
        "id": "9hoIRxuKauM7"
      }
    },
    {
      "cell_type": "code",
      "source": [
        "import numpy as np\n",
        "\n",
        "# Step 1: Create the Data Matrix\n",
        "data = np.array([\n",
        "    [2, 4, 6, 8, 10],\n",
        "    [1, 3, 5, 7, 9],\n",
        "    [10, 8, 6, 4, 2]\n",
        "])\n",
        "\n",
        "print(\"Data Matrix (3x5):\")\n",
        "print(data)\n",
        "\n",
        "# Step 2: Compute the Covariance Matrix\n",
        "cov_matrix = np.cov(data, bias=True)\n",
        "\n",
        "print(\"\\nCovariance Matrix (3x3):\")\n",
        "print(cov_matrix)\n",
        "\n",
        "# Step 3: Compute the Correlation Matrix\n",
        "corr_matrix = np.corrcoef(data)\n",
        "\n",
        "print(\"\\nCorrelation Matrix (3x3):\")\n",
        "print(corr_matrix)\n"
      ],
      "metadata": {
        "colab": {
          "base_uri": "https://localhost:8080/"
        },
        "id": "YZMsrZ-Xa5KD",
        "outputId": "fd0063ce-ae35-44b4-e105-45691a5ddd3b"
      },
      "execution_count": null,
      "outputs": [
        {
          "output_type": "stream",
          "name": "stdout",
          "text": [
            "Data Matrix (3x5):\n",
            "[[ 2  4  6  8 10]\n",
            " [ 1  3  5  7  9]\n",
            " [10  8  6  4  2]]\n",
            "\n",
            "Covariance Matrix (3x3):\n",
            "[[ 8.  8. -8.]\n",
            " [ 8.  8. -8.]\n",
            " [-8. -8.  8.]]\n",
            "\n",
            "Correlation Matrix (3x3):\n",
            "[[ 1.  1. -1.]\n",
            " [ 1.  1. -1.]\n",
            " [-1. -1.  1.]]\n"
          ]
        }
      ]
    }
  ]
}