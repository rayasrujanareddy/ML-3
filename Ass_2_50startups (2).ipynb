{
  "nbformat": 4,
  "nbformat_minor": 0,
  "metadata": {
    "colab": {
      "provenance": []
    },
    "kernelspec": {
      "name": "python3",
      "display_name": "Python 3"
    },
    "language_info": {
      "name": "python"
    }
  },
  "cells": [
    {
      "cell_type": "markdown",
      "source": [
        "## Install kaggle by writing the below command"
      ],
      "metadata": {
        "id": "R5oJZ_8ZcOyX"
      }
    },
    {
      "cell_type": "code",
      "source": [
        "pip install kaggle"
      ],
      "metadata": {
        "colab": {
          "base_uri": "https://localhost:8080/"
        },
        "id": "vUi-tD2_f91p",
        "outputId": "b1d7c77e-ba4c-4112-8a7e-26f43eb9dedd"
      },
      "execution_count": null,
      "outputs": [
        {
          "output_type": "stream",
          "name": "stdout",
          "text": [
            "Requirement already satisfied: kaggle in /usr/local/lib/python3.10/dist-packages (1.6.17)\n",
            "Requirement already satisfied: six>=1.10 in /usr/local/lib/python3.10/dist-packages (from kaggle) (1.16.0)\n",
            "Requirement already satisfied: certifi>=2023.7.22 in /usr/local/lib/python3.10/dist-packages (from kaggle) (2024.8.30)\n",
            "Requirement already satisfied: python-dateutil in /usr/local/lib/python3.10/dist-packages (from kaggle) (2.8.2)\n",
            "Requirement already satisfied: requests in /usr/local/lib/python3.10/dist-packages (from kaggle) (2.32.3)\n",
            "Requirement already satisfied: tqdm in /usr/local/lib/python3.10/dist-packages (from kaggle) (4.66.5)\n",
            "Requirement already satisfied: python-slugify in /usr/local/lib/python3.10/dist-packages (from kaggle) (8.0.4)\n",
            "Requirement already satisfied: urllib3 in /usr/local/lib/python3.10/dist-packages (from kaggle) (2.0.7)\n",
            "Requirement already satisfied: bleach in /usr/local/lib/python3.10/dist-packages (from kaggle) (6.1.0)\n",
            "Requirement already satisfied: webencodings in /usr/local/lib/python3.10/dist-packages (from bleach->kaggle) (0.5.1)\n",
            "Requirement already satisfied: text-unidecode>=1.3 in /usr/local/lib/python3.10/dist-packages (from python-slugify->kaggle) (1.3)\n",
            "Requirement already satisfied: charset-normalizer<4,>=2 in /usr/local/lib/python3.10/dist-packages (from requests->kaggle) (3.3.2)\n",
            "Requirement already satisfied: idna<4,>=2.5 in /usr/local/lib/python3.10/dist-packages (from requests->kaggle) (3.8)\n"
          ]
        }
      ]
    },
    {
      "cell_type": "markdown",
      "source": [
        "##Download the particular Dataset from Kaggle that you want to predict"
      ],
      "metadata": {
        "id": "9yacBfB7dXr4"
      }
    },
    {
      "cell_type": "code",
      "source": [
        "!kaggle datasets download -d farhanmd29/50-startups"
      ],
      "metadata": {
        "colab": {
          "base_uri": "https://localhost:8080/"
        },
        "id": "yeTL2BKhg_XP",
        "outputId": "30db0f0f-fb5a-42e1-bfe8-610b641baa1f"
      },
      "execution_count": null,
      "outputs": [
        {
          "output_type": "stream",
          "name": "stdout",
          "text": [
            "Dataset URL: https://www.kaggle.com/datasets/farhanmd29/50-startups\n",
            "License(s): other\n",
            "Downloading 50-startups.zip to /content\n",
            "  0% 0.00/1.30k [00:00<?, ?B/s]\n",
            "100% 1.30k/1.30k [00:00<00:00, 2.22MB/s]\n"
          ]
        }
      ]
    },
    {
      "cell_type": "markdown",
      "source": [
        "##Access the zip file"
      ],
      "metadata": {
        "id": "Vo3bdr94d7R8"
      }
    },
    {
      "cell_type": "code",
      "source": [
        "from zipfile import ZipFile\n",
        "dataset = \"/content/50-startups.zip\"\n",
        "\n",
        "with ZipFile(dataset, 'r') as zip:\n",
        "  zip.extractall()\n",
        "  print('done')"
      ],
      "metadata": {
        "colab": {
          "base_uri": "https://localhost:8080/"
        },
        "id": "N0xrtl6zijUh",
        "outputId": "0846c69d-9a1b-460d-e5da-4c4661633946"
      },
      "execution_count": null,
      "outputs": [
        {
          "output_type": "stream",
          "name": "stdout",
          "text": [
            "done\n"
          ]
        }
      ]
    },
    {
      "cell_type": "markdown",
      "source": [
        "#**Import libraries**"
      ],
      "metadata": {
        "id": "sUF6nVOZmbrz"
      }
    },
    {
      "cell_type": "code",
      "source": [
        "import pandas as pd\n",
        "import numpy as np\n",
        "import sklearn.datasets\n",
        "from sklearn.model_selection import train_test_split\n",
        "from sklearn.preprocessing import StandardScaler\n",
        "from sklearn.linear_model import LinearRegression\n",
        "import seaborn as sns\n",
        "from sklearn.metrics import r2_score"
      ],
      "metadata": {
        "id": "8Yt02O7ooPnT"
      },
      "execution_count": null,
      "outputs": []
    },
    {
      "cell_type": "markdown",
      "source": [
        "###Initialization\n",
        "\n",
        "The code assigns the CSV dataset to the variable List and then converts it into a DataFrame using pd.DataFrame(). Two sets of independent variables are created: X_multiple, which includes 'R&D Spend', 'Administration', and 'Marketing Spend', and X_single, which includes only 'R&D Spend'. The dependent variable 'Profit' is stored in the y set. Finally, the first few rows of the DataFrame are printed using df.head()."
      ],
      "metadata": {
        "id": "_0GEVqRDjcXq"
      }
    },
    {
      "cell_type": "code",
      "source": [
        "List = pd.read_csv(dataset)\n",
        "\n",
        "df= pd.DataFrame(List)\n",
        "X_multiple = df[['R&D Spend','Administration','Marketing Spend']].values\n",
        "X_single = df[['R&D Spend']].values\n",
        "y = df['Profit'].values\n",
        "print(df.head())"
      ],
      "metadata": {
        "colab": {
          "base_uri": "https://localhost:8080/"
        },
        "id": "Gb7fvEG9mlpP",
        "outputId": "277d6f44-64e2-4d64-dbc5-55ed8e292a78"
      },
      "execution_count": null,
      "outputs": [
        {
          "output_type": "stream",
          "name": "stdout",
          "text": [
            "   R&D Spend  Administration  Marketing Spend       State     Profit\n",
            "0  165349.20       136897.80        471784.10    New York  192261.83\n",
            "1  162597.70       151377.59        443898.53  California  191792.06\n",
            "2  153441.51       101145.55        407934.54     Florida  191050.39\n",
            "3  144372.41       118671.85        383199.62    New York  182901.99\n",
            "4  142107.34        91391.77        366168.42     Florida  166187.94\n"
          ]
        }
      ]
    },
    {
      "cell_type": "markdown",
      "source": [
        "###Standardization\n",
        "\n",
        "Standardization in regression involves transforming the input features to have a mean of 0 and a standard deviation of 1. In this code, the StandardScaler is used to standardize the training and testing datasets for both multiple regression (X_train_m, X_test_m) and single regression (X_train_s, X_test_s).\n",
        "\n"
      ],
      "metadata": {
        "id": "aDesZyMhkrYL"
      }
    },
    {
      "cell_type": "code",
      "source": [
        "scaler = StandardScaler()\n",
        "X_scaled = scaler.fit_transform(X)\n",
        "\n",
        "# Append bias term (for intercept)\n",
        "X_scaled = np.c_[np.ones(X_scaled.shape[0]), X_scaled]\n"
      ],
      "metadata": {
        "id": "4GGxsm0IktvA"
      },
      "execution_count": null,
      "outputs": []
    },
    {
      "cell_type": "markdown",
      "source": [
        "###Splitting\n",
        "\n",
        "The code splits the dataset into training and testing sets, which is a common step in preparing data for model training and evaluation. The dataset is split twice: once for multiple regression (X_multiple and y) and once for single regression (X_single and y). In both cases, 20% of the data is set aside for testing (test_size=0.2), and the random splitting is controlled by a fixed seed (random_state=0)."
      ],
      "metadata": {
        "id": "jdFeg6FwseZ_"
      }
    },
    {
      "cell_type": "code",
      "source": [
        "X_train_m,X_test_m,Y_train_m,Y_test_m = train_test_split(X_multiple,y,test_size=0.2,random_state=0)\n",
        "X_train_s,X_test_s,Y_train_s,Y_test_s = train_test_split(X_single,y,test_size=0.2,random_state=0)"
      ],
      "metadata": {
        "id": "mD-4kF71kUM5"
      },
      "execution_count": null,
      "outputs": []
    },
    {
      "cell_type": "code",
      "source": [
        "print(X_test_m.std())\n",
        "print(X_test_s.std())"
      ],
      "metadata": {
        "colab": {
          "base_uri": "https://localhost:8080/"
        },
        "id": "JAAt_fOpysol",
        "outputId": "e4fd4602-9c7b-44bb-f4c0-50452480bd11"
      },
      "execution_count": null,
      "outputs": [
        {
          "output_type": "stream",
          "name": "stdout",
          "text": [
            "1.071097610672191\n",
            "0.8941313431851632\n"
          ]
        }
      ]
    },
    {
      "cell_type": "markdown",
      "source": [
        "\n",
        "###Training  the regression model\n",
        "\n",
        "Two models are trained: reg_multiple for multiple regression using the standardized training data (X_train_m and Y_train_m), and reg_single for single regression using the standardized single feature training data (X_train_s and Y_train_s). The fit method trains each model by finding the best-fitting line to predict the target variable Y_train_m and Y_train_s from the input features.\n"
      ],
      "metadata": {
        "id": "LxgvvwutkeuD"
      }
    },
    {
      "cell_type": "code",
      "source": [
        "from sklearn.linear_model import LinearRegression\n",
        "reg_multiple = LinearRegression()\n",
        "reg_multiple.fit(X_train_m, Y_train_m)\n",
        "reg_single = LinearRegression()\n",
        "reg_single.fit(X_train_s, Y_train_s)"
      ],
      "metadata": {
        "colab": {
          "base_uri": "https://localhost:8080/",
          "height": 75
        },
        "id": "xDV-slQkzZcU",
        "outputId": "b2a8c53a-5797-4fae-88b3-abb710583586"
      },
      "execution_count": null,
      "outputs": [
        {
          "output_type": "execute_result",
          "data": {
            "text/plain": [
              "LinearRegression()"
            ],
            "text/html": [
              "<style>#sk-container-id-1 {color: black;}#sk-container-id-1 pre{padding: 0;}#sk-container-id-1 div.sk-toggleable {background-color: white;}#sk-container-id-1 label.sk-toggleable__label {cursor: pointer;display: block;width: 100%;margin-bottom: 0;padding: 0.3em;box-sizing: border-box;text-align: center;}#sk-container-id-1 label.sk-toggleable__label-arrow:before {content: \"▸\";float: left;margin-right: 0.25em;color: #696969;}#sk-container-id-1 label.sk-toggleable__label-arrow:hover:before {color: black;}#sk-container-id-1 div.sk-estimator:hover label.sk-toggleable__label-arrow:before {color: black;}#sk-container-id-1 div.sk-toggleable__content {max-height: 0;max-width: 0;overflow: hidden;text-align: left;background-color: #f0f8ff;}#sk-container-id-1 div.sk-toggleable__content pre {margin: 0.2em;color: black;border-radius: 0.25em;background-color: #f0f8ff;}#sk-container-id-1 input.sk-toggleable__control:checked~div.sk-toggleable__content {max-height: 200px;max-width: 100%;overflow: auto;}#sk-container-id-1 input.sk-toggleable__control:checked~label.sk-toggleable__label-arrow:before {content: \"▾\";}#sk-container-id-1 div.sk-estimator input.sk-toggleable__control:checked~label.sk-toggleable__label {background-color: #d4ebff;}#sk-container-id-1 div.sk-label input.sk-toggleable__control:checked~label.sk-toggleable__label {background-color: #d4ebff;}#sk-container-id-1 input.sk-hidden--visually {border: 0;clip: rect(1px 1px 1px 1px);clip: rect(1px, 1px, 1px, 1px);height: 1px;margin: -1px;overflow: hidden;padding: 0;position: absolute;width: 1px;}#sk-container-id-1 div.sk-estimator {font-family: monospace;background-color: #f0f8ff;border: 1px dotted black;border-radius: 0.25em;box-sizing: border-box;margin-bottom: 0.5em;}#sk-container-id-1 div.sk-estimator:hover {background-color: #d4ebff;}#sk-container-id-1 div.sk-parallel-item::after {content: \"\";width: 100%;border-bottom: 1px solid gray;flex-grow: 1;}#sk-container-id-1 div.sk-label:hover label.sk-toggleable__label {background-color: #d4ebff;}#sk-container-id-1 div.sk-serial::before {content: \"\";position: absolute;border-left: 1px solid gray;box-sizing: border-box;top: 0;bottom: 0;left: 50%;z-index: 0;}#sk-container-id-1 div.sk-serial {display: flex;flex-direction: column;align-items: center;background-color: white;padding-right: 0.2em;padding-left: 0.2em;position: relative;}#sk-container-id-1 div.sk-item {position: relative;z-index: 1;}#sk-container-id-1 div.sk-parallel {display: flex;align-items: stretch;justify-content: center;background-color: white;position: relative;}#sk-container-id-1 div.sk-item::before, #sk-container-id-1 div.sk-parallel-item::before {content: \"\";position: absolute;border-left: 1px solid gray;box-sizing: border-box;top: 0;bottom: 0;left: 50%;z-index: -1;}#sk-container-id-1 div.sk-parallel-item {display: flex;flex-direction: column;z-index: 1;position: relative;background-color: white;}#sk-container-id-1 div.sk-parallel-item:first-child::after {align-self: flex-end;width: 50%;}#sk-container-id-1 div.sk-parallel-item:last-child::after {align-self: flex-start;width: 50%;}#sk-container-id-1 div.sk-parallel-item:only-child::after {width: 0;}#sk-container-id-1 div.sk-dashed-wrapped {border: 1px dashed gray;margin: 0 0.4em 0.5em 0.4em;box-sizing: border-box;padding-bottom: 0.4em;background-color: white;}#sk-container-id-1 div.sk-label label {font-family: monospace;font-weight: bold;display: inline-block;line-height: 1.2em;}#sk-container-id-1 div.sk-label-container {text-align: center;}#sk-container-id-1 div.sk-container {/* jupyter's `normalize.less` sets `[hidden] { display: none; }` but bootstrap.min.css set `[hidden] { display: none !important; }` so we also need the `!important` here to be able to override the default hidden behavior on the sphinx rendered scikit-learn.org. See: https://github.com/scikit-learn/scikit-learn/issues/21755 */display: inline-block !important;position: relative;}#sk-container-id-1 div.sk-text-repr-fallback {display: none;}</style><div id=\"sk-container-id-1\" class=\"sk-top-container\"><div class=\"sk-text-repr-fallback\"><pre>LinearRegression()</pre><b>In a Jupyter environment, please rerun this cell to show the HTML representation or trust the notebook. <br />On GitHub, the HTML representation is unable to render, please try loading this page with nbviewer.org.</b></div><div class=\"sk-container\" hidden><div class=\"sk-item\"><div class=\"sk-estimator sk-toggleable\"><input class=\"sk-toggleable__control sk-hidden--visually\" id=\"sk-estimator-id-1\" type=\"checkbox\" checked><label for=\"sk-estimator-id-1\" class=\"sk-toggleable__label sk-toggleable__label-arrow\">LinearRegression</label><div class=\"sk-toggleable__content\"><pre>LinearRegression()</pre></div></div></div></div></div>"
            ]
          },
          "metadata": {},
          "execution_count": 9
        }
      ]
    },
    {
      "cell_type": "markdown",
      "source": [
        "###Predicting the Test set results  for both Multiple and single linear regression\n",
        "\n"
      ],
      "metadata": {
        "id": "ScaIXE1nznUY"
      }
    },
    {
      "cell_type": "code",
      "source": [
        "\n",
        "y_pred_multiple = reg_multiple.predict(X_test_m)\n",
        "y_pred_single = reg_single.predict(X_test_s)\n"
      ],
      "metadata": {
        "id": "I-IgAPTUzpRW"
      },
      "execution_count": null,
      "outputs": []
    },
    {
      "cell_type": "markdown",
      "source": [
        "##computing R-squared value and Accuracy for both multiple and single linear regression"
      ],
      "metadata": {
        "id": "utFL7p0kz7pL"
      }
    },
    {
      "cell_type": "code",
      "source": [
        "\n",
        "r2_m = r2_score(Y_test_m, y_pred_multiple)\n",
        "print(\"R-squared value for multiple linear regression:\", r2_m)\n",
        "r2_s= r2_score(Y_test_s, y_pred_single)\n",
        "print(\"R-squared value for single linear regression:\", r2_s)\n",
        "\n",
        "acc_m = r2_m * 100\n",
        "print(\"Accuracy for multiple linear regression:\", acc_m)\n",
        "acc_s = r2_s * 100\n",
        "print(\"Accuracy for single linear regression:\", acc_s)"
      ],
      "metadata": {
        "colab": {
          "base_uri": "https://localhost:8080/"
        },
        "id": "bbqn19u_0OoW",
        "outputId": "71477dea-e047-494f-ed93-788478342b74"
      },
      "execution_count": null,
      "outputs": [
        {
          "output_type": "stream",
          "name": "stdout",
          "text": [
            "R-squared value for multiple linear regression: 0.9393955917820571\n",
            "R-squared value for single linear regression: 0.9464587607787219\n",
            "Accuracy for multiple linear regression: 93.93955917820571\n",
            "Accuracy for single linear regression: 94.64587607787219\n"
          ]
        }
      ]
    }
  ]
}